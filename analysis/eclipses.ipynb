{
 "cells": [
  {
   "cell_type": "code",
   "execution_count": 1,
   "id": "f91f0b24-e4dd-46dd-bba1-4e8ce250b6cd",
   "metadata": {},
   "outputs": [],
   "source": [
    "import spiceypy as spice\n",
    "import spiceypy.utils.support_types as stypes\n",
    "import pandas as pd\n",
    "import numpy as np\n",
    "import glob"
   ]
  },
  {
   "cell_type": "code",
   "execution_count": 75,
   "id": "fe638e63-b9da-4ada-8c04-17ed57f887a7",
   "metadata": {},
   "outputs": [],
   "source": [
    "def calculate_eclipses(occulted, occulting, observer, start, stop):\n",
    "    path = \"/home/dominik/dev/tudat-bundle/spice/lro/data\"\n",
    "    for file in glob.glob(f\"{path}/spk/*.bsp\"):\n",
    "        spice.furnsh(file)\n",
    "    spice.furnsh(f\"{path}/lsk/naif0012.tls\")\n",
    "    spice.furnsh(f\"{path}/pck/pck00010.tpc\")\n",
    "    \n",
    "    TDBFMT = 'YYYY-MM-DD HR:MN:SC.### TDB ::TDB'\n",
    "\n",
    "    stepsize = 300.0\n",
    "    \n",
    "    confine = stypes.SPICEDOUBLE_CELL(2)\n",
    "    spice.wninsd( spice.str2et(start), spice.str2et(stop), confine)\n",
    "\n",
    "    occultations = []\n",
    "    for occ_type in [\"FULL\", \"ANNULAR\", \"PARTIAL\"]:\n",
    "        occultation_windows = stypes.SPICEDOUBLE_CELL(10000)\n",
    "        spice.gfoclt( occ_type,\n",
    "                     occulting,    \"ellipsoid\",  f\"iau_{occulting}\",\n",
    "                        occulted,     \"ellipsoid\",  f\"iau_{occulted}\",\n",
    "                         \"none\", observer,  stepsize, confine, occultation_windows)\n",
    "\n",
    "        for i in range(spice.wncard( occultation_windows )):\n",
    "            [intbeg, intend] = spice.wnfetd(occultation_windows, i)\n",
    "            occultations.append((spice.timout(intbeg, TDBFMT), spice.timout(intend, TDBFMT), occ_type))\n",
    "    occultations.sort()\n",
    "    \n",
    "    print(f\"{observer} observing {occulted} occultation due to {occulting}:\")\n",
    "    if not occultations:\n",
    "        print(\" - No occultations\")\n",
    "    for t_start, t_end, occ_type in occultations:\n",
    "        print(f\" - {t_start} - {t_end} ({occ_type})\")\n",
    "\n",
    "    spice.kclear()"
   ]
  },
  {
   "cell_type": "code",
   "execution_count": 76,
   "id": "083f6e21-2dd8-4959-8140-28987be474f4",
   "metadata": {},
   "outputs": [
    {
     "name": "stdout",
     "output_type": "stream",
     "text": [
      "Moon observing Sun occultation due to Earth:\n",
      " - 2010-06-26 09:36:49.510 TDB - 2010-06-26 11:28:04.861 TDB (PARTIAL)\n",
      " - 2010-06-26 11:28:04.861 TDB - 2010-06-26 11:52:27.754 TDB (FULL)\n",
      " - 2010-06-26 11:52:27.754 TDB - 2010-06-26 13:43:44.488 TDB (PARTIAL)\n"
     ]
    }
   ],
   "source": [
    "calculate_eclipses(\"Sun\", \"Earth\", \"Moon\", \"2010 JUNE 26\", \"2010 JUNE 27\")"
   ]
  },
  {
   "cell_type": "markdown",
   "id": "c11b8c5e-3c97-4761-808c-0ddf35431f49",
   "metadata": {},
   "source": [
    "## Check eclipses given in Tooley 2010:"
   ]
  },
  {
   "cell_type": "code",
   "execution_count": 71,
   "id": "52feb416-f4b3-4fa3-960c-21a25c7cc6e8",
   "metadata": {},
   "outputs": [
    {
     "name": "stdout",
     "output_type": "stream",
     "text": [
      "LRO observing Sun occultation due to Earth:\n",
      " - 2009-12-31 17:47:13.241 TDB - 2009-12-31 20:52:34.914 TDB (PARTIAL)\n",
      "LRO observing Sun occultation due to Moon:\n",
      " - No occultations\n"
     ]
    }
   ],
   "source": [
    "calculate_eclipses(\"Sun\", \"Earth\", \"LRO\", \"2009 DEC 30\", \"2010 JAN 1\")\n",
    "calculate_eclipses(\"Sun\", \"Moon\", \"LRO\", \"2009 DEC 30\", \"2010 JAN 1\")"
   ]
  },
  {
   "cell_type": "code",
   "execution_count": 69,
   "id": "590a4120-c4be-4d9b-90ec-3371557f7eb2",
   "metadata": {},
   "outputs": [
    {
     "name": "stdout",
     "output_type": "stream",
     "text": [
      "LRO observing Sun occultation due to Earth:\n",
      " - 2010-06-26 09:53:38.797 TDB - 2010-06-26 10:23:59.617 TDB (PARTIAL)\n",
      " - 2010-06-26 10:23:59.617 TDB - 2010-06-26 10:52:58.911 TDB (FULL)\n",
      " - 2010-06-26 10:52:58.911 TDB - 2010-06-26 12:28:03.003 TDB (PARTIAL)\n",
      " - 2010-06-26 12:28:03.003 TDB - 2010-06-26 12:57:02.536 TDB (FULL)\n",
      " - 2010-06-26 12:57:02.536 TDB - 2010-06-26 13:27:40.126 TDB (PARTIAL)\n",
      "LRO observing Sun occultation due to Moon:\n",
      " - No occultations\n"
     ]
    }
   ],
   "source": [
    "calculate_eclipses(\"Sun\", \"Earth\", \"LRO\", \"2010 JUNE 25\", \"2010 JUNE 27\")\n",
    "calculate_eclipses(\"Sun\", \"Moon\", \"LRO\", \"2010 JUNE 25\", \"2010 JUNE 27\")"
   ]
  },
  {
   "cell_type": "code",
   "execution_count": 70,
   "id": "02c4146d-3c96-4aa8-94d9-aee75725a958",
   "metadata": {
    "tags": []
   },
   "outputs": [
    {
     "name": "stdout",
     "output_type": "stream",
     "text": [
      "LRO observing Sun occultation due to Earth:\n",
      " - 2010-12-21 05:47:02.614 TDB - 2010-12-21 07:28:19.694 TDB (PARTIAL)\n",
      " - 2010-12-21 07:28:19.694 TDB - 2010-12-21 09:12:40.909 TDB (FULL)\n",
      " - 2010-12-21 09:12:40.909 TDB - 2010-12-21 10:53:32.804 TDB (PARTIAL)\n",
      "LRO observing Sun occultation due to Moon:\n",
      " - No occultations\n"
     ]
    }
   ],
   "source": [
    "calculate_eclipses(\"Sun\", \"Earth\", \"LRO\", \"2010 DEC 20\", \"2010 DEC 22\")\n",
    "calculate_eclipses(\"Sun\", \"Moon\", \"LRO\", \"2010 DEC 20\", \"2010 DEC 22\")"
   ]
  },
  {
   "cell_type": "code",
   "execution_count": 67,
   "id": "1fd7a668-1f79-434a-8f9b-f7bddcdea33b",
   "metadata": {},
   "outputs": [
    {
     "name": "stdout",
     "output_type": "stream",
     "text": [
      "LRO observing Sun occultation due to Earth:\n",
      " - 2011-06-15 17:36:10.340 TDB - 2011-06-15 19:08:19.775 TDB (PARTIAL)\n",
      " - 2011-06-15 19:08:19.775 TDB - 2011-06-15 21:17:29.520 TDB (FULL)\n",
      " - 2011-06-15 21:17:29.520 TDB - 2011-06-15 22:49:39.241 TDB (PARTIAL)\n",
      "LRO observing Sun occultation due to Moon:\n",
      " - No occultations\n"
     ]
    }
   ],
   "source": [
    "calculate_eclipses(\"Sun\", \"Earth\", \"LRO\", \"2011 JUN 14\", \"2011 JUN 16\")\n",
    "calculate_eclipses(\"Sun\", \"Moon\", \"LRO\", \"2011 JUN 14\", \"2011 JUN 16\")"
   ]
  },
  {
   "cell_type": "code",
   "execution_count": null,
   "id": "89005839-9d83-441b-88a9-6a1e6dab3c81",
   "metadata": {},
   "outputs": [],
   "source": []
  }
 ],
 "metadata": {
  "kernelspec": {
   "display_name": "Python 3",
   "language": "python",
   "name": "python3"
  },
  "language_info": {
   "codemirror_mode": {
    "name": "ipython",
    "version": 3
   },
   "file_extension": ".py",
   "mimetype": "text/x-python",
   "name": "python",
   "nbconvert_exporter": "python",
   "pygments_lexer": "ipython3",
   "version": "3.9.13"
  }
 },
 "nbformat": 4,
 "nbformat_minor": 5
}
