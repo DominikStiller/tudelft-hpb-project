{
 "cells": [
  {
   "cell_type": "code",
   "execution_count": 1,
   "id": "f91f0b24-e4dd-46dd-bba1-4e8ce250b6cd",
   "metadata": {},
   "outputs": [],
   "source": [
    "import spiceypy as spice\n",
    "import pandas as pd\n",
    "import numpy as np\n",
    "from numpy.linalg import norm"
   ]
  },
  {
   "cell_type": "code",
   "execution_count": 2,
   "id": "fe638e63-b9da-4ada-8c04-17ed57f887a7",
   "metadata": {},
   "outputs": [],
   "source": [
    "%run code/spice_tools.py"
   ]
  },
  {
   "cell_type": "code",
   "execution_count": 3,
   "id": "8ab5dcb7-8ea7-4cbf-9551-69a3e6314df0",
   "metadata": {},
   "outputs": [],
   "source": [
    "def print_eclipses(occulted, occulting, observer, start, stop):\n",
    "    occultations = calculate_eclipses(occulted, occulting, observer, start, stop)\n",
    "    \n",
    "    print(f\"{observer} observing {occulted} occultation due to {occulting}:\")\n",
    "    if not occultations:\n",
    "        print(\" - No occultations\")\n",
    "    for t_start, t_end, occ_type in occultations:\n",
    "        print(f\" - {as_tdb(t_start)} - {as_tdb(t_end)} ({occ_type})\")"
   ]
  },
  {
   "cell_type": "code",
   "execution_count": 4,
   "id": "083f6e21-2dd8-4959-8140-28987be474f4",
   "metadata": {},
   "outputs": [
    {
     "name": "stdout",
     "output_type": "stream",
     "text": [
      "Moon observing Sun occultation due to Earth:\n",
      " - 2010-06-26 09:36:49.510 TDB - 2010-06-26 11:28:04.861 TDB (PARTIAL)\n",
      " - 2010-06-26 11:28:04.861 TDB - 2010-06-26 11:52:27.754 TDB (FULL)\n",
      " - 2010-06-26 11:52:27.754 TDB - 2010-06-26 13:43:44.488 TDB (PARTIAL)\n"
     ]
    }
   ],
   "source": [
    "print_eclipses(\"Sun\", \"Earth\", \"Moon\", \"2010 JUNE 26\", \"2010 JUNE 27\")"
   ]
  },
  {
   "cell_type": "markdown",
   "id": "c11b8c5e-3c97-4761-808c-0ddf35431f49",
   "metadata": {},
   "source": [
    "## Check eclipses given in Tooley 2010:"
   ]
  },
  {
   "cell_type": "code",
   "execution_count": 5,
   "id": "52feb416-f4b3-4fa3-960c-21a25c7cc6e8",
   "metadata": {},
   "outputs": [
    {
     "name": "stdout",
     "output_type": "stream",
     "text": [
      "LRO observing Sun occultation due to Earth:\n",
      " - 2009-12-31 17:47:13.241 TDB - 2009-12-31 20:52:34.914 TDB (PARTIAL)\n",
      "LRO observing Sun occultation due to Moon:\n",
      " - No occultations\n"
     ]
    }
   ],
   "source": [
    "print_eclipses(\"Sun\", \"Earth\", \"LRO\", \"2009 DEC 30\", \"2010 JAN 1\")\n",
    "print_eclipses(\"Sun\", \"Moon\", \"LRO\", \"2009 DEC 30\", \"2010 JAN 1\")"
   ]
  },
  {
   "cell_type": "code",
   "execution_count": 6,
   "id": "590a4120-c4be-4d9b-90ec-3371557f7eb2",
   "metadata": {},
   "outputs": [
    {
     "name": "stdout",
     "output_type": "stream",
     "text": [
      "LRO observing Sun occultation due to Earth:\n",
      " - 2010-06-26 09:53:38.797 TDB - 2010-06-26 10:23:59.617 TDB (PARTIAL)\n",
      " - 2010-06-26 10:23:59.617 TDB - 2010-06-26 10:52:58.911 TDB (FULL)\n",
      " - 2010-06-26 10:52:58.911 TDB - 2010-06-26 12:28:03.003 TDB (PARTIAL)\n",
      " - 2010-06-26 12:28:03.003 TDB - 2010-06-26 12:57:02.536 TDB (FULL)\n",
      " - 2010-06-26 12:57:02.536 TDB - 2010-06-26 13:27:40.126 TDB (PARTIAL)\n",
      "LRO observing Sun occultation due to Moon:\n",
      " - No occultations\n"
     ]
    }
   ],
   "source": [
    "print_eclipses(\"Sun\", \"Earth\", \"LRO\", \"2010 JUNE 25\", \"2010 JUNE 27\")\n",
    "print_eclipses(\"Sun\", \"Moon\", \"LRO\", \"2010 JUNE 25\", \"2010 JUNE 27\")"
   ]
  },
  {
   "cell_type": "code",
   "execution_count": 7,
   "id": "02c4146d-3c96-4aa8-94d9-aee75725a958",
   "metadata": {
    "tags": []
   },
   "outputs": [
    {
     "name": "stdout",
     "output_type": "stream",
     "text": [
      "LRO observing Sun occultation due to Earth:\n",
      " - 2010-12-21 05:47:02.614 TDB - 2010-12-21 07:28:19.694 TDB (PARTIAL)\n",
      " - 2010-12-21 07:28:19.694 TDB - 2010-12-21 09:12:40.909 TDB (FULL)\n",
      " - 2010-12-21 09:12:40.909 TDB - 2010-12-21 10:53:32.804 TDB (PARTIAL)\n",
      "LRO observing Sun occultation due to Moon:\n",
      " - No occultations\n"
     ]
    }
   ],
   "source": [
    "print_eclipses(\"Sun\", \"Earth\", \"LRO\", \"2010 DEC 20\", \"2010 DEC 22\")\n",
    "print_eclipses(\"Sun\", \"Moon\", \"LRO\", \"2010 DEC 20\", \"2010 DEC 22\")"
   ]
  },
  {
   "cell_type": "code",
   "execution_count": 8,
   "id": "1fd7a668-1f79-434a-8f9b-f7bddcdea33b",
   "metadata": {},
   "outputs": [
    {
     "name": "stdout",
     "output_type": "stream",
     "text": [
      "LRO observing Sun occultation due to Earth:\n",
      " - 2011-06-15 17:36:10.340 TDB - 2011-06-15 19:08:19.775 TDB (PARTIAL)\n",
      " - 2011-06-15 19:08:19.775 TDB - 2011-06-15 21:17:29.520 TDB (FULL)\n",
      " - 2011-06-15 21:17:29.520 TDB - 2011-06-15 22:49:39.241 TDB (PARTIAL)\n",
      "LRO observing Sun occultation due to Moon:\n",
      " - No occultations\n"
     ]
    }
   ],
   "source": [
    "print_eclipses(\"Sun\", \"Earth\", \"LRO\", \"2011 JUN 14\", \"2011 JUN 16\")\n",
    "print_eclipses(\"Sun\", \"Moon\", \"LRO\", \"2011 JUN 14\", \"2011 JUN 16\")"
   ]
  },
  {
   "cell_type": "markdown",
   "id": "53cdc9a8-e87f-4485-b6ad-c5e24a1783c0",
   "metadata": {},
   "source": [
    "## Point-to-point occultation"
   ]
  },
  {
   "cell_type": "code",
   "execution_count": 9,
   "id": "3fe9d53b-5b48-4e2d-b398-610bc548bd95",
   "metadata": {},
   "outputs": [],
   "source": [
    "def check_visibility(source_position, occulting_body_position, occulting_body_radius, target_position):\n",
    "    body_to_target = occulting_body_position - target_position\n",
    "    source_to_target = source_position - target_position\n",
    "    alpha = np.arccos(np.dot(body_to_target, source_to_target) / (norm(body_to_target) * norm(source_to_target)))\n",
    "    apparent_separation = norm(body_to_target) * np.sin(alpha)\n",
    "    \n",
    "    target_to_body = target_position - occulting_body_position\n",
    "    source_to_body = source_position - occulting_body_position\n",
    "    cos_psi = np.dot(target_to_body, source_to_body) / (norm(target_to_body) * norm(source_to_body))\n",
    "    \n",
    "    outside_body_radius = apparent_separation > occulting_body_radius\n",
    "    target_in_front_of_occulting_body_center = cos_psi > 0\n",
    "    \n",
    "    return target_in_front_of_occulting_body_center or outside_body_radius"
   ]
  },
  {
   "cell_type": "code",
   "execution_count": 10,
   "id": "6b17f8c0-2dec-424b-a0ef-42c46d81c0f3",
   "metadata": {},
   "outputs": [
    {
     "data": {
      "text/plain": [
       "True"
      ]
     },
     "execution_count": 10,
     "metadata": {},
     "output_type": "execute_result"
    }
   ],
   "source": [
    "check_visibility(\n",
    "    np.array([0.5, 0, 0]),\n",
    "    np.array([2, 0, 0]),\n",
    "    1,\n",
    "    np.array([0, 0, 0])\n",
    ")"
   ]
  },
  {
   "cell_type": "code",
   "execution_count": 11,
   "id": "9eadb6b7-3d95-448d-ac17-6a6563699866",
   "metadata": {},
   "outputs": [
    {
     "data": {
      "text/plain": [
       "True"
      ]
     },
     "execution_count": 11,
     "metadata": {},
     "output_type": "execute_result"
    }
   ],
   "source": [
    "check_visibility(\n",
    "    np.array([0, 0, 0]),\n",
    "    np.array([2, 0, 0]),\n",
    "    1,\n",
    "    np.array([0.5, 0, 0])\n",
    ")"
   ]
  },
  {
   "cell_type": "code",
   "execution_count": 12,
   "id": "6012f1a8-1f9d-402a-b4fd-762150b17800",
   "metadata": {},
   "outputs": [
    {
     "data": {
      "text/plain": [
       "False"
      ]
     },
     "execution_count": 12,
     "metadata": {},
     "output_type": "execute_result"
    }
   ],
   "source": [
    "check_visibility(\n",
    "    np.array([0, 0, 0]),\n",
    "    np.array([2, 0, 0]),\n",
    "    1,\n",
    "    np.array([3, 1, 0])\n",
    ")"
   ]
  },
  {
   "cell_type": "code",
   "execution_count": 13,
   "id": "d9bac56d-c9dc-4f83-88cd-f8d37c78f377",
   "metadata": {},
   "outputs": [
    {
     "data": {
      "text/plain": [
       "True"
      ]
     },
     "execution_count": 13,
     "metadata": {},
     "output_type": "execute_result"
    }
   ],
   "source": [
    "check_visibility(\n",
    "    np.array([0, 0, 0]),\n",
    "    np.array([2, 0, 0]),\n",
    "    1,\n",
    "    np.array([3, 2, 0])\n",
    ")"
   ]
  },
  {
   "cell_type": "code",
   "execution_count": 14,
   "id": "6448d4b9-1fd1-4a16-a579-735faf78d5f1",
   "metadata": {},
   "outputs": [
    {
     "data": {
      "text/plain": [
       "True"
      ]
     },
     "execution_count": 14,
     "metadata": {},
     "output_type": "execute_result"
    }
   ],
   "source": [
    "check_visibility(\n",
    "    np.array([0, 0, 0]),\n",
    "    np.array([2, 0, 0]),\n",
    "    1,\n",
    "    np.array([1.5, 0, 0])\n",
    ")"
   ]
  },
  {
   "cell_type": "code",
   "execution_count": 15,
   "id": "ec911cea-61a4-4f2a-a659-f8eff48e664c",
   "metadata": {},
   "outputs": [
    {
     "data": {
      "text/plain": [
       "False"
      ]
     },
     "execution_count": 15,
     "metadata": {},
     "output_type": "execute_result"
    }
   ],
   "source": [
    "check_visibility(\n",
    "    np.array([0, 0, 0]),\n",
    "    np.array([2, 0, 0]),\n",
    "    1,\n",
    "    np.array([2.5, 0, 0])\n",
    ")"
   ]
  },
  {
   "cell_type": "code",
   "execution_count": null,
   "id": "c34c6851-e355-4d49-b0b2-3dd7b4c5998e",
   "metadata": {},
   "outputs": [],
   "source": []
  }
 ],
 "metadata": {
  "kernelspec": {
   "display_name": "venv",
   "language": "python",
   "name": "python3"
  },
  "language_info": {
   "codemirror_mode": {
    "name": "ipython",
    "version": 3
   },
   "file_extension": ".py",
   "mimetype": "text/x-python",
   "name": "python",
   "nbconvert_exporter": "python",
   "pygments_lexer": "ipython3",
   "version": "3.11.1"
  },
  "vscode": {
   "interpreter": {
    "hash": "d86e9e284390e03bd4c9de4c862d62dcb2b8af6a443e858741febf6ea0a4736e"
   }
  }
 },
 "nbformat": 4,
 "nbformat_minor": 5
}
