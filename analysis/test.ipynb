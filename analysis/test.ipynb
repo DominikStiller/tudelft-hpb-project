{
 "cells": [
  {
   "cell_type": "code",
   "execution_count": 1,
   "metadata": {},
   "outputs": [],
   "source": [
    "import sys\n",
    "sys.path.append(\"code\")\n",
    "\n",
    "# %load_ext autoreload"
   ]
  },
  {
   "cell_type": "code",
   "execution_count": 2,
   "metadata": {},
   "outputs": [],
   "source": [
    "import matplotlib\n",
    "import matplotlib.pyplot as plt\n",
    "from matplotlib.ticker import LogLocator\n",
    "import pandas as pd\n",
    "import numpy as np\n",
    "import seaborn as sb\n",
    "import spiceypy as spice\n",
    "\n",
    "from datetime import datetime, timedelta\n",
    "from pathlib import Path"
   ]
  },
  {
   "cell_type": "code",
   "execution_count": 3,
   "metadata": {},
   "outputs": [],
   "source": [
    "from spice_tools import as_et, as_utc, as_tdb, generate_lro_ephemeris\n",
    "from simulation_tools import load_simulation_results, pos_names, acc_names, irr_names, panels_count_names\n",
    "from plotting import format_plot, save_plot"
   ]
  },
  {
   "cell_type": "code",
   "execution_count": 4,
   "metadata": {},
   "outputs": [],
   "source": [
    "def calculate_final_pos_difference(df1, df2):\n",
    "    final_pos1 = df1.iloc[-1][pos_names].to_numpy()\n",
    "    final_pos2 = df2.iloc[-1][pos_names].to_numpy()\n",
    "    final_pos_diff = np.linalg.norm(final_pos1 - final_pos2)\n",
    "    final_pos_diff_rel = final_pos_diff / np.linalg.norm(final_pos1)\n",
    "\n",
    "    return final_pos_diff_rel\n",
    "\n",
    "    print(f\"% difference of final position: {final_pos_diff_rel:.10%}\")"
   ]
  },
  {
   "cell_type": "code",
   "execution_count": 5,
   "metadata": {},
   "outputs": [],
   "source": [
    "import matplotlib.font_manager\n",
    "# matplotlib.font_manager.get_font_names()"
   ]
  },
  {
   "cell_type": "code",
   "execution_count": 6,
   "metadata": {},
   "outputs": [
    {
     "data": {
      "image/png": "[encoded data removed]",
      "text/plain": [
       "<Figure size 800x100 with 1 Axes>"
      ]
     },
     "metadata": {},
     "output_type": "display_data"
    }
   ],
   "source": [
    "sb.palplot(sb.color_palette())"
   ]
  }
 ],
 "metadata": {
  "kernelspec": {
   "display_name": "venv",
   "language": "python",
   "name": "python3"
  },
  "language_info": {
   "codemirror_mode": {
    "name": "ipython",
    "version": 3
   },
   "file_extension": ".py",
   "mimetype": "text/x-python",
   "name": "python",
   "nbconvert_exporter": "python",
   "pygments_lexer": "ipython3",
   "version": "3.11.1"
  },
  "orig_nbformat": 4,
  "vscode": {
   "interpreter": {
    "hash": "d86e9e284390e03bd4c9de4c862d62dcb2b8af6a443e858741febf6ea0a4736e"
   }
  }
 },
 "nbformat": 4,
 "nbformat_minor": 2
}
