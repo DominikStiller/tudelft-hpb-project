{
 "cells": [
  {
   "cell_type": "code",
   "execution_count": 8,
   "metadata": {},
   "outputs": [],
   "source": [
    "import sys\n",
    "sys.path.append(\"../lropy\")"
   ]
  },
  {
   "cell_type": "code",
   "execution_count": 9,
   "metadata": {},
   "outputs": [],
   "source": [
    "import matplotlib\n",
    "import matplotlib.pyplot as plt\n",
    "from matplotlib.ticker import LogLocator\n",
    "import pandas as pd\n",
    "import numpy as np\n",
    "import seaborn as sb\n",
    "import spiceypy as spice\n",
    "\n",
    "from datetime import datetime, timedelta\n",
    "from pathlib import Path"
   ]
  },
  {
   "cell_type": "code",
   "execution_count": 10,
   "metadata": {},
   "outputs": [],
   "source": [
    "# from spice_tools import as_et, as_utc, as_tdb, generate_lro_ephemeris\n",
    "from lropy.analysis.io import load_simulation_results, pos_names, acc_names, irr_names, panels_count_names\n",
    "from lropy.analysis.plotting import format_plot, save_plot\n",
    "# from util import spher2cart, cart2spher, align_vectors"
   ]
  },
  {
   "cell_type": "code",
   "execution_count": 11,
   "metadata": {},
   "outputs": [],
   "source": [
    "moon_polar_radius = 1736  # km\n",
    "earth_radius = 6378  # km"
   ]
  }
 ],
 "metadata": {
  "kernelspec": {
   "display_name": "venv",
   "language": "python",
   "name": "python3"
  },
  "language_info": {
   "codemirror_mode": {
    "name": "ipython",
    "version": 3
   },
   "file_extension": ".py",
   "mimetype": "text/x-python",
   "name": "python",
   "nbconvert_exporter": "python",
   "pygments_lexer": "ipython3",
   "version": "3.11.4"
  },
  "orig_nbformat": 4,
  "vscode": {
   "interpreter": {
    "hash": "d86e9e284390e03bd4c9de4c862d62dcb2b8af6a443e858741febf6ea0a4736e"
   }
  }
 },
 "nbformat": 4,
 "nbformat_minor": 2
}
