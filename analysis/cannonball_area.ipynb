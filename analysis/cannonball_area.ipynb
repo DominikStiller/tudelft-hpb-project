{
 "cells": [
  {
   "cell_type": "code",
   "execution_count": 1,
   "id": "45d037e9-5e92-41c1-b56d-dee76c2ce8eb",
   "metadata": {},
   "outputs": [],
   "source": [
    "import pandas as pd\n",
    "import numpy as np"
   ]
  },
  {
   "cell_type": "markdown",
   "id": "8c3eb3b6-b518-49f9-bea7-9b0b40c1a72c",
   "metadata": {},
   "source": [
    "From Smith 2008:"
   ]
  },
  {
   "cell_type": "code",
   "execution_count": 5,
   "id": "c9fdd9c3-386d-4a70-b43a-ec064496efe0",
   "metadata": {},
   "outputs": [
    {
     "data": {
      "text/html": [
       "<div>\n",
       "<style scoped>\n",
       "    .dataframe tbody tr th:only-of-type {\n",
       "        vertical-align: middle;\n",
       "    }\n",
       "\n",
       "    .dataframe tbody tr th {\n",
       "        vertical-align: top;\n",
       "    }\n",
       "\n",
       "    .dataframe thead th {\n",
       "        text-align: right;\n",
       "    }\n",
       "</style>\n",
       "<table border=\"1\" class=\"dataframe\">\n",
       "  <thead>\n",
       "    <tr style=\"text-align: right;\">\n",
       "      <th></th>\n",
       "      <th>Cs</th>\n",
       "      <th>Cd</th>\n",
       "      <th>A</th>\n",
       "      <th>Ca</th>\n",
       "    </tr>\n",
       "    <tr>\n",
       "      <th>panel</th>\n",
       "      <th></th>\n",
       "      <th></th>\n",
       "      <th></th>\n",
       "      <th></th>\n",
       "    </tr>\n",
       "  </thead>\n",
       "  <tbody>\n",
       "    <tr>\n",
       "      <th>+x</th>\n",
       "      <td>0.29</td>\n",
       "      <td>0.22</td>\n",
       "      <td>2.82</td>\n",
       "      <td>0.49</td>\n",
       "    </tr>\n",
       "    <tr>\n",
       "      <th>-x</th>\n",
       "      <td>0.39</td>\n",
       "      <td>0.19</td>\n",
       "      <td>2.82</td>\n",
       "      <td>0.42</td>\n",
       "    </tr>\n",
       "    <tr>\n",
       "      <th>+y</th>\n",
       "      <td>0.32</td>\n",
       "      <td>0.23</td>\n",
       "      <td>3.69</td>\n",
       "      <td>0.45</td>\n",
       "    </tr>\n",
       "    <tr>\n",
       "      <th>-y</th>\n",
       "      <td>0.32</td>\n",
       "      <td>0.18</td>\n",
       "      <td>3.69</td>\n",
       "      <td>0.5</td>\n",
       "    </tr>\n",
       "    <tr>\n",
       "      <th>+z</th>\n",
       "      <td>0.32</td>\n",
       "      <td>0.18</td>\n",
       "      <td>5.14</td>\n",
       "      <td>0.5</td>\n",
       "    </tr>\n",
       "    <tr>\n",
       "      <th>-z</th>\n",
       "      <td>0.54</td>\n",
       "      <td>0.18</td>\n",
       "      <td>5.14</td>\n",
       "      <td>0.28</td>\n",
       "    </tr>\n",
       "    <tr>\n",
       "      <th>+sa</th>\n",
       "      <td>0.05</td>\n",
       "      <td>0.05</td>\n",
       "      <td>11.0</td>\n",
       "      <td>0.9</td>\n",
       "    </tr>\n",
       "    <tr>\n",
       "      <th>-sa</th>\n",
       "      <td>&lt;NA&gt;</td>\n",
       "      <td>&lt;NA&gt;</td>\n",
       "      <td>11.0</td>\n",
       "      <td>&lt;NA&gt;</td>\n",
       "    </tr>\n",
       "    <tr>\n",
       "      <th>+hga</th>\n",
       "      <td>0.18</td>\n",
       "      <td>0.28</td>\n",
       "      <td>1.0</td>\n",
       "      <td>0.54</td>\n",
       "    </tr>\n",
       "    <tr>\n",
       "      <th>-hga</th>\n",
       "      <td>0.019</td>\n",
       "      <td>0.0495</td>\n",
       "      <td>1.0</td>\n",
       "      <td>0.9315</td>\n",
       "    </tr>\n",
       "  </tbody>\n",
       "</table>\n",
       "</div>"
      ],
      "text/plain": [
       "          Cs      Cd     A      Ca\n",
       "panel                             \n",
       "+x      0.29    0.22  2.82    0.49\n",
       "-x      0.39    0.19  2.82    0.42\n",
       "+y      0.32    0.23  3.69    0.45\n",
       "-y      0.32    0.18  3.69     0.5\n",
       "+z      0.32    0.18  5.14     0.5\n",
       "-z      0.54    0.18  5.14    0.28\n",
       "+sa     0.05    0.05  11.0     0.9\n",
       "-sa     <NA>    <NA>  11.0    <NA>\n",
       "+hga    0.18    0.28   1.0    0.54\n",
       "-hga   0.019  0.0495   1.0  0.9315"
      ]
     },
     "execution_count": 5,
     "metadata": {},
     "output_type": "execute_result"
    }
   ],
   "source": [
    "data = pd.DataFrame.from_records([\n",
    "    (\"+x\", 0.29, 0.22, 2.82),\n",
    "    (\"-x\", 0.39, 0.19, 2.82),\n",
    "    (\"+y\", 0.32, 0.23, 3.69),\n",
    "    (\"-y\", 0.32, 0.18, 3.69),\n",
    "    (\"+z\", 0.32, 0.18, 5.14),\n",
    "    (\"-z\", 0.54, 0.18, 5.14),\n",
    "    (\"+sa\", 0.05, 0.05, 11.00),\n",
    "    (\"-sa\", pd.NA, pd.NA, 11.00),\n",
    "    (\"+hga\", 0.18, 0.28, 1.00),\n",
    "    (\"-hga\", 0.019, 0.0495, 1.00)\n",
    "], columns=[\"panel\", \"Cs\", \"Cd\", \"A\"], index=\"panel\").convert_dtypes()\n",
    "\n",
    "body_panels = [\"+x\", \"-x\", \"+y\", \"-y\", \"+z\", \"-z\"]\n",
    "panels_without_sa_neg = body_panels + [\"+sa\", \"+hga\", \"-hga\"]\n",
    "\n",
    "data[\"Ca\"] = 1 - data[\"Cs\"] - data[\"Cd\"]\n",
    "data"
   ]
  },
  {
   "cell_type": "markdown",
   "id": "d12c4872-e464-441c-a419-1371b586f136",
   "metadata": {},
   "source": [
    "Assume that solar array always points towards source and high-gain antenna is exposed half of the time"
   ]
  },
  {
   "cell_type": "code",
   "execution_count": 3,
   "id": "11f859c5-8922-420b-a503-c1dad0311c39",
   "metadata": {},
   "outputs": [
    {
     "data": {
      "text/plain": [
       "15.38"
      ]
     },
     "execution_count": 3,
     "metadata": {},
     "output_type": "execute_result"
    }
   ],
   "source": [
    "areas = data[\"A\"]\n",
    "area_body_avg = areas[body_panels].sum() / len(body_panels)\n",
    "area_cannonball = area_body_avg + areas[\"+sa\"] + areas[\"+hga\"] / 2\n",
    "round(area_cannonball, 2)"
   ]
  },
  {
   "cell_type": "code",
   "execution_count": 6,
   "id": "1be31519-2d5f-4aa2-8935-1356c796c85c",
   "metadata": {},
   "outputs": [
    {
     "data": {
      "text/plain": [
       "0.41"
      ]
     },
     "execution_count": 6,
     "metadata": {},
     "output_type": "execute_result"
    }
   ],
   "source": [
    "reflectivity = data[\"Cs\"] + data[\"Cd\"]  # Total reflectivity\n",
    "reflectivity_cannonball = np.average(\n",
    "    reflectivity[panels_without_sa_neg],\n",
    "    weights=areas[panels_without_sa_neg]\n",
    ")\n",
    "round(reflectivity_cannonball, 2)"
   ]
  },
  {
   "cell_type": "code",
   "execution_count": null,
   "id": "1410684c-4986-4ca9-87b8-9c289f1b7a5f",
   "metadata": {},
   "outputs": [],
   "source": []
  }
 ],
 "metadata": {
  "kernelspec": {
   "display_name": "Python 3",
   "language": "python",
   "name": "python3"
  },
  "language_info": {
   "codemirror_mode": {
    "name": "ipython",
    "version": 3
   },
   "file_extension": ".py",
   "mimetype": "text/x-python",
   "name": "python",
   "nbconvert_exporter": "python",
   "pygments_lexer": "ipython3",
   "version": "3.11.1 (main, Dec  7 2022, 01:11:34) [GCC 11.3.0]"
  },
  "vscode": {
   "interpreter": {
    "hash": "ead1b95f633dc9c51826328e1846203f51a198c6fb5f2884a80417ba131d4e82"
   }
  }
 },
 "nbformat": 4,
 "nbformat_minor": 5
}
